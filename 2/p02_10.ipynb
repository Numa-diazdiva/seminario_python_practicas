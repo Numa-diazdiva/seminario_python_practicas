{
 "cells": [
  {
   "cell_type": "markdown",
   "metadata": {},
   "source": [
    "Consigna:\n",
    "\n",
    "• Generar una estructura con los nombres de los estudiantes y la suma de ambas notas.\n",
    "• Calcular el promedio de las notas totales e informar que alumnos obtuvieron menos que el\n",
    "promedio."
   ]
  },
  {
   "cell_type": "markdown",
   "metadata": {},
   "source": [
    "- declaro un diccionario para luego almacenar los nombres de los alumns como claves y suma de sus notas como valor.\n",
    "1º Abro los archivos a través de su ruta relativa y almaceno su contenido en una variable.\n",
    "2º Aplico los métodos necesarios para limiar los strings de dichas variables y genero listas mediante split para almacenar \n",
    "los nombres de cada uno de los alumnos por separado en ellas."
   ]
  },
  {
   "cell_type": "code",
   "execution_count": null,
   "metadata": {},
   "outputs": [],
   "source": [
    "# Genero un diccionario para guardar las notas para poder usarlas en el programa\n",
    "suma_notas = {}\n",
    "\n",
    "archivo_nombres = open(\"./archivos/nombres_1.txt\",\"r\")\n",
    "archivo_nota1 = open(\"./archivos/eval1.txt\",\"r\")\n",
    "archivo_nota2 = open(\"./archivos/eval2.txt\", \"r\")\n",
    "\n",
    "\n",
    "lista_nombres = archivo_nombres.read().replace(\"'\",\"\").replace(\",\",\"\").split()\n",
    "lista_notas_1 = archivo_nota1.read().replace(\",\",\"\").split()\n",
    "lista_notas_2 = archivo_nota2.read().replace(\",\",\"\").split()"
   ]
  },
  {
   "cell_type": "markdown",
   "metadata": {},
   "source": [
    "Calculo la suma total de las notas de cada alumn y lo almaceno en un diccionario con su nombre como clave.\n",
    "Uso un índice para acceder la misma posición de cada lista en simultaneo.\n",
    "En el mismo recorrido voy calculando la suma total de todas las notas para luego calcular el promedio."
   ]
  },
  {
   "cell_type": "code",
   "execution_count": null,
   "metadata": {},
   "outputs": [],
   "source": [
    "suma_total = 0\n",
    "for i in range(len(lista_nombres)):\n",
    "    suma_notas[lista_nombres[i]] = int(lista_notas_1[i]) + int(lista_notas_2[i])\n",
    "    suma_total += suma_notas[lista_nombres[i]]"
   ]
  },
  {
   "cell_type": "markdown",
   "metadata": {},
   "source": [
    "Calculo el promedio de todas las notas y lo informo.\n",
    "Luego recorro el diccionario suma_notas y pregunto si el valor de las notas de cada alumno es menor al promedio, para informar aquellos que cumplan con \n",
    "esta condición."
   ]
  },
  {
   "cell_type": "code",
   "execution_count": null,
   "metadata": {},
   "outputs": [],
   "source": [
    "promedio_total = suma_total / len(lista_nombres)\n",
    "print(f\"El promedio de todas las notas es de: {round(promedio_total,2)}\")\n",
    "for alumn in suma_notas:\n",
    "    if suma_notas[alumn] < promedio_total:\n",
    "        print(f\"El alumn {alumn} obtuvo menor nota que el promedio ({suma_notas[alumn]})\")"
   ]
  }
 ],
 "metadata": {
  "language_info": {
   "name": "python"
  },
  "orig_nbformat": 4
 },
 "nbformat": 4,
 "nbformat_minor": 2
}
