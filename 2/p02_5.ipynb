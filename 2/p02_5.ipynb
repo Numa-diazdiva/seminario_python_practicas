{
 "cells": [
  {
   "cell_type": "code",
   "execution_count": 1,
   "metadata": {},
   "outputs": [
    {
     "name": "stdout",
     "output_type": "stream",
     "text": [
      "Error: la cadena no puede contener los caracteres: ! ni @\n"
     ]
    }
   ],
   "source": [
    "cadena = input(\"Ingrese una clave que tenga menos de 10 caracteres. No puede incluir los símbolos @ ni !\")\n",
    "if len(cadena) > 10:\n",
    "    print(\"Ingresó más de 10 caracteres\")\n",
    "elif (\"@\" in cadena) or (\"!\" in cadena):\n",
    "    print(\"Error: la cadena no puede contener los caracteres: ! ni @\")\n",
    "else:\n",
    "    print(\"Clave válida\")"
   ]
  }
 ],
 "metadata": {
  "interpreter": {
   "hash": "0c6943872f1610710876e65926fe3ef56e29287b501ce76d3d44d812ad98e04c"
  },
  "kernelspec": {
   "display_name": "Python 3.10.2 64-bit ('3.10.2')",
   "language": "python",
   "name": "python3"
  },
  "language_info": {
   "codemirror_mode": {
    "name": "ipython",
    "version": 3
   },
   "file_extension": ".py",
   "mimetype": "text/x-python",
   "name": "python",
   "nbconvert_exporter": "python",
   "pygments_lexer": "ipython3",
   "version": "3.10.2"
  },
  "orig_nbformat": 4
 },
 "nbformat": 4,
 "nbformat_minor": 2
}
