{
 "cells": [
  {
   "cell_type": "markdown",
   "metadata": {},
   "source": [
    "Primero, importo las librería os y localizo los paths para los archivos con los que voy a trabajar.\n",
    "A continuación los abro."
   ]
  },
  {
   "cell_type": "code",
   "execution_count": 1,
   "metadata": {},
   "outputs": [
    {
     "name": "stdout",
     "output_type": "stream",
     "text": [
      "/home/numaddva/Escritorio/Manolín/Informática/2º año/Python/Práctica/archivos/nombres_1.txt\n"
     ]
    }
   ],
   "source": [
    "import os\n",
    "\n",
    "ruta_base = os.path.dirname(os.path.realpath(\".\"))\n",
    "ruta_arch1 = os.path.join(ruta_base, \"archivos\",\"nombres_1.txt\")\n",
    "ruta_arch2 = os.path.join(ruta_base, \"archivos\",\"nombres_2.txt\")\n",
    "print(ruta_arch1)\n",
    "archivo_nombres1 = open(ruta_arch1, \"r\")\n",
    "archivo_nombres2 = open(ruta_arch2, \"r\")"
   ]
  },
  {
   "cell_type": "markdown",
   "metadata": {},
   "source": [
    "Ahora elaboro dos listas, una por cada archivo. Para ello uso la función read() sobre el archivo abierto.\n",
    "También aplico la función replace para deshacerme de los caracteres indeseados del archivo de texto."
   ]
  },
  {
   "cell_type": "code",
   "execution_count": 2,
   "metadata": {},
   "outputs": [
    {
     "name": "stdout",
     "output_type": "stream",
     "text": [
      "['Agustin', 'Bautista', 'CESAR', 'Diego', 'ELIANA', 'Facundo', 'Facundo', 'Ignacio', 'JUAN', 'Juan', 'Juan', 'Marcos', 'MATEO', 'Matias', 'Tomás', 'Ulises', 'Yanina']\n"
     ]
    }
   ],
   "source": [
    "lista_nombres1 = archivo_nombres1.read().replace(\"'\",\"\").replace(\",\",\"\").split()\n",
    "lista_nombres2 = archivo_nombres2.read().replace(\"'\",\"\").replace(\",\",\"\").split()\n",
    "\n",
    "# Escribo una nueva lista por comprensión par poder almacenar los nombres que se encontraban en ambos archivos\n",
    "nombres_compartidos = [nombre for nombre in lista_nombres1 if nombre in lista_nombres2]\n",
    "\n",
    "print(nombres_compartidos)"
   ]
  }
 ],
 "metadata": {
  "interpreter": {
   "hash": "0c6943872f1610710876e65926fe3ef56e29287b501ce76d3d44d812ad98e04c"
  },
  "kernelspec": {
   "display_name": "Python 3.10.2 64-bit ('3.10.2')",
   "language": "python",
   "name": "python3"
  },
  "language_info": {
   "codemirror_mode": {
    "name": "ipython",
    "version": 3
   },
   "file_extension": ".py",
   "mimetype": "text/x-python",
   "name": "python",
   "nbconvert_exporter": "python",
   "pygments_lexer": "ipython3",
   "version": "3.10.2"
  },
  "orig_nbformat": 4
 },
 "nbformat": 4,
 "nbformat_minor": 2
}
