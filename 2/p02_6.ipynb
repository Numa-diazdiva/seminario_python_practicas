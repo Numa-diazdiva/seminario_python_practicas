{
 "cells": [
  {
   "cell_type": "markdown",
   "metadata": {},
   "source": [
    "6. Dada una frase donde las palabras pueden estar repetidas e indistintamente en mayúsculas y\n",
    "minúsculas, imprimir una lista con todas las palabras sin repetir y en letra minúscula."
   ]
  },
  {
   "cell_type": "code",
   "execution_count": 1,
   "metadata": {},
   "outputs": [
    {
     "name": "stdout",
     "output_type": "stream",
     "text": [
      "[('de', 4), ('una', 3), ('o', 3), ('alguna', 2), ('y', 2), ('un', 2), ('archivos', 2), ('con', 2), ('Si', 1), ('trabajás', 1), ('mucho', 1), ('CON', 1), ('computadoras,', 1), ('eventualmente', 1), ('encontrarás', 1), ('que', 1), ('te', 1), ('gustaría', 1), ('automatizar', 1), ('tarea.', 1), ('Por', 1), ('ejemplo,', 1), ('podrías', 1), ('desear', 1), ('realizar', 1), ('búsqueda', 1), ('reemplazo', 1), ('en', 1), ('gran', 1), ('número', 1), ('DE', 1), ('texto,', 1), ('renombrar', 1), ('reorganizar', 1), ('montón', 1), ('fotos', 1), ('manera', 1), ('compleja.', 1), ('Tal', 1), ('vez', 1), ('quieras', 1), ('escribir', 1), ('pequeña', 1), ('base', 1), ('datos', 1), ('personalizada,', 1), ('aplicación', 1), ('especializada', 1), ('interfaz', 1), ('gráfica,', 1), ('UN', 1), ('juego', 1), ('simple.', 1)]\n",
      "Palabras en minúscula que solo aparecen una vez: [('trabajás', 1), ('mucho', 1), ('computadoras,', 1), ('eventualmente', 1), ('encontrarás', 1), ('que', 1), ('te', 1), ('gustaría', 1), ('automatizar', 1), ('tarea.', 1), ('ejemplo,', 1), ('podrías', 1), ('desear', 1), ('realizar', 1), ('búsqueda', 1), ('reemplazo', 1), ('en', 1), ('gran', 1), ('número', 1), ('texto,', 1), ('renombrar', 1), ('reorganizar', 1), ('montón', 1), ('fotos', 1), ('manera', 1), ('compleja.', 1), ('vez', 1), ('quieras', 1), ('escribir', 1), ('pequeña', 1), ('base', 1), ('datos', 1), ('personalizada,', 1), ('aplicación', 1), ('especializada', 1), ('interfaz', 1), ('gráfica,', 1), ('juego', 1), ('simple.', 1)]\n"
     ]
    }
   ],
   "source": [
    "from collections import Counter\n",
    "\n",
    "frase = \"\"\"\n",
    "Si trabajás mucho CON computadoras, eventualmente encontrarás que te gustaría\n",
    "automatizar alguna tarea. Por ejemplo, podrías desear realizar una búsqueda y\n",
    "reemplazo en un gran número DE archivos de texto, o renombrar y reorganizar\n",
    "un montón de archivos con fotos de una manera compleja. Tal vez quieras\n",
    "escribir alguna pequeña base de datos personalizada, o una aplicación\n",
    "especializada con interfaz gráfica, o UN juego simple.\n",
    "\"\"\"\n",
    "# Ver cómo filtrar las , \n",
    "frase_separada = frase.split()\n",
    "contador = Counter(frase_separada)\n",
    "lista = list(filter(lambda x: (x[0].islower() and x[1] == 1),contador.most_common()))\n",
    "\n",
    "print(f\"Palabras en minúscula que solo aparecen una vez: {lista}\")"
   ]
  }
 ],
 "metadata": {
  "interpreter": {
   "hash": "0c6943872f1610710876e65926fe3ef56e29287b501ce76d3d44d812ad98e04c"
  },
  "kernelspec": {
   "display_name": "Python 3.10.2 64-bit ('3.10.2')",
   "language": "python",
   "name": "python3"
  },
  "language_info": {
   "codemirror_mode": {
    "name": "ipython",
    "version": 3
   },
   "file_extension": ".py",
   "mimetype": "text/x-python",
   "name": "python",
   "nbconvert_exporter": "python",
   "pygments_lexer": "ipython3",
   "version": "3.10.2"
  },
  "orig_nbformat": 4
 },
 "nbformat": 4,
 "nbformat_minor": 2
}
