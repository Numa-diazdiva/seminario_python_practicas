{
 "cells": [
  {
   "cell_type": "code",
   "execution_count": null,
   "metadata": {},
   "outputs": [],
   "source": [
    "def leo_caracteres():\n",
    "f = open(\"imagine.txt\",\"r\")\n",
    "for x in f.read():\n",
    "print(x)\n",
    "f.close()\n",
    "def leo_lineas():\n",
    "f = open(\"imagine.txt\",\"r\")\n",
    "print(f.readlines())\n",
    "f.close()\n",
    "def otra_forma():\n",
    "f = open(\"imagine.txt\",\"r\")\n",
    "for linea in f:\n",
    "print(linea)\n",
    "f.close()\n",
    "def main():\n",
    "print('Leo caracteres')\n",
    "leo_caracteres()\n",
    "print('-' * 20)\n",
    "print('Leo lineas')\n",
    "leo_lineas()\n",
    "print('-' * 20)\n",
    "print('Otra forma')\n",
    "otra_forma()\n",
    "if __name__ == \"__main__\":\n",
    "otra_forma()"
   ]
  }
 ],
 "metadata": {
  "language_info": {
   "name": "python"
  },
  "orig_nbformat": 4
 },
 "nbformat": 4,
 "nbformat_minor": 2
}
